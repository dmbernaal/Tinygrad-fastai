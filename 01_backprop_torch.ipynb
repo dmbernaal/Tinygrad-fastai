{
 "cells": [
  {
   "cell_type": "code",
   "execution_count": 1,
   "metadata": {},
   "outputs": [
    {
     "name": "stderr",
     "output_type": "stream",
     "text": [
      "/Users/diegomedina-bernal/anaconda3/lib/python3.10/site-packages/tqdm/auto.py:22: TqdmWarning: IProgress not found. Please update jupyter and ipywidgets. See https://ipywidgets.readthedocs.io/en/stable/user_install.html\n",
      "  from .autonotebook import tqdm as notebook_tqdm\n"
     ]
    }
   ],
   "source": [
    "import pickle, gzip, math, os, time, shutil\n",
    "import matplotlib as mpl\n",
    "import matplotlib.pyplot as plt\n",
    "import numpy as np\n",
    "from pathlib import Path\n",
    "\n",
    "# torch\n",
    "import torch\n",
    "from torch import tensor, nn\n",
    "import torch.nn.functional as F\n",
    "\n",
    "# huggingface datasets\n",
    "import datasets\n",
    "from datasets import Dataset\n",
    "from torch.utils.data import DataLoader"
   ]
  },
  {
   "cell_type": "code",
   "execution_count": 2,
   "metadata": {},
   "outputs": [
    {
     "name": "stderr",
     "output_type": "stream",
     "text": [
      "Found cached dataset mnist (/Users/diegomedina-bernal/.cache/huggingface/datasets/mnist/mnist/1.0.0/9d494b7f466d6931c64fb39d58bb1249a4d85c9eb9865d9bc20960b999e2a332)\n",
      "100%|██████████| 2/2 [00:00<00:00, 680.23it/s]\n"
     ]
    }
   ],
   "source": [
    "# download mnist from hugginface datasets\n",
    "mnist = datasets.load_dataset('mnist')"
   ]
  },
  {
   "cell_type": "code",
   "execution_count": 3,
   "metadata": {},
   "outputs": [],
   "source": [
    "mnist.set_format('torch')\n",
    "# mnist.set_format(type='np', columns=['image', 'label'])\n",
    "\n",
    "# lets get them tensors\n",
    "train = mnist['train']\n",
    "test = mnist['test']\n",
    "x_train, y_train = train['image'], train['label']\n",
    "x_test, y_test = test['image'], test['label']"
   ]
  },
  {
   "cell_type": "code",
   "execution_count": 55,
   "metadata": {},
   "outputs": [],
   "source": [
    "class DS:\n",
    "    def __init__(self, x, y):\n",
    "        self.x = x.view(-1, 28*28).float()/255.\n",
    "        self.y = y[:, None].long().view(-1)\n",
    "    def __len__(self):\n",
    "        return len(self.x)\n",
    "    def __getitem__(self, i):\n",
    "        return self.x[i], self.y[i]\n",
    "    \n",
    "# scuffed way to create our own dataset\n",
    "train_ds = DS(x_train, y_train)\n",
    "test_ds = DS(x_test, y_test)\n",
    "\n",
    "\n",
    "# scuffed but works?\n",
    "BS = 256\n",
    "train_dl = DataLoader(train_ds, batch_size=BS, shuffle=True)\n",
    "test_dl = DataLoader(test_ds, batch_size=256, shuffle=False)"
   ]
  },
  {
   "cell_type": "code",
   "execution_count": 56,
   "metadata": {},
   "outputs": [],
   "source": [
    "# 2 layer nn\n",
    "class Model(nn.Module):\n",
    "    def __init__(self, nin, nh, nout, act_fn=nn.ReLU()):\n",
    "        super().__init__()\n",
    "        assert isinstance(act_fn, nn.Module)\n",
    "        self.layers = [\n",
    "            nn.Linear(nin, nh),\n",
    "            act_fn,\n",
    "            nn.Linear(nh, nout)]\n",
    "        \n",
    "    def forward(self, x):\n",
    "        for l in self.layers: x = l(x)\n",
    "        return x"
   ]
  },
  {
   "cell_type": "code",
   "execution_count": 57,
   "metadata": {},
   "outputs": [
    {
     "data": {
      "text/plain": [
       "(torch.Size([256, 784]), torch.Size([256]))"
      ]
     },
     "execution_count": 57,
     "metadata": {},
     "output_type": "execute_result"
    }
   ],
   "source": [
    "# testing\n",
    "xb, yb = next(iter(train_dl))\n",
    "xb.shape, yb.shape"
   ]
  },
  {
   "cell_type": "code",
   "execution_count": 58,
   "metadata": {},
   "outputs": [],
   "source": [
    "# simple model\n",
    "model = Model(\n",
    "    nin=28*28,           # 28x28 image -> we flatten on each batch\n",
    "    nh=50,               # hidden layer size\n",
    "    nout=10,             # output size\n",
    "    act_fn=nn.ReLU()     # activation function\n",
    "    )"
   ]
  },
  {
   "cell_type": "code",
   "execution_count": 59,
   "metadata": {},
   "outputs": [
    {
     "data": {
      "text/plain": [
       "torch.Size([256, 10])"
      ]
     },
     "execution_count": 59,
     "metadata": {},
     "output_type": "execute_result"
    }
   ],
   "source": [
    "# does it work? yes? no?\n",
    "out = model(xb)\n",
    "out.shape"
   ]
  },
  {
   "cell_type": "code",
   "execution_count": 60,
   "metadata": {},
   "outputs": [
    {
     "data": {
      "text/plain": [
       "(torch.Size([256, 10]), torch.Size([256]))"
      ]
     },
     "execution_count": 60,
     "metadata": {},
     "output_type": "execute_result"
    }
   ],
   "source": [
    "out.shape, yb.shape"
   ]
  },
  {
   "cell_type": "code",
   "execution_count": 61,
   "metadata": {},
   "outputs": [
    {
     "data": {
      "text/plain": [
       "tensor([[-2.1796, -2.3081, -2.2505,  ..., -2.3799, -2.4470, -2.3495],\n",
       "        [-2.1958, -2.3052, -2.2289,  ..., -2.4134, -2.3280, -2.3587],\n",
       "        [-2.2498, -2.2982, -2.3291,  ..., -2.4082, -2.3797, -2.3591],\n",
       "        ...,\n",
       "        [-2.1820, -2.2844, -2.3027,  ..., -2.3895, -2.3692, -2.3150],\n",
       "        [-2.1812, -2.2435, -2.3376,  ..., -2.4798, -2.3794, -2.3735],\n",
       "        [-2.1512, -2.2716, -2.2467,  ..., -2.3967, -2.3707, -2.4110]],\n",
       "       grad_fn=<LogSoftmaxBackward0>)"
      ]
     },
     "execution_count": 61,
     "metadata": {},
     "output_type": "execute_result"
    }
   ],
   "source": [
    "# can we do softmax? yes? no? im not writing the new one\n",
    "F.log_softmax(out, dim=1)"
   ]
  },
  {
   "cell_type": "code",
   "execution_count": 62,
   "metadata": {},
   "outputs": [],
   "source": [
    "def log_softmax(x):\n",
    "    return (x.exp()/(x.exp().sum(-1, keepdim=True))).log()"
   ]
  },
  {
   "cell_type": "code",
   "execution_count": 63,
   "metadata": {},
   "outputs": [],
   "source": [
    "# accuracy function\n",
    "def accuracy(out, yb): return (out.argmax(dim=1)==yb).float().mean()\n",
    "# function to print\n",
    "def report(loss, preds, yb): print(f\"{loss:.2f}, {accuracy(preds, yb):.2f}\")"
   ]
  },
  {
   "cell_type": "code",
   "execution_count": 64,
   "metadata": {},
   "outputs": [],
   "source": [
    "# to test out a new function we need a new model\n",
    "# this is practically the same thing as the previous model\n",
    "class SimpleModel(nn.Module):\n",
    "    def __init__(self, nin, nh, nout=10, act_fn=nn.ReLU):\n",
    "        super().__init__()\n",
    "        self.layers = nn.Sequential(\n",
    "            nn.Linear(nin, nh),\n",
    "            act_fn(),\n",
    "            nn.Linear(nh, nout))\n",
    "        \n",
    "    def forward(self, x):\n",
    "        return self.layers(x)"
   ]
  },
  {
   "cell_type": "code",
   "execution_count": 67,
   "metadata": {},
   "outputs": [],
   "source": [
    "model = SimpleModel(28*28, 50, act_fn=nn.ReLU)"
   ]
  },
  {
   "cell_type": "code",
   "execution_count": 68,
   "metadata": {},
   "outputs": [
    {
     "name": "stdout",
     "output_type": "stream",
     "text": [
      "0.16, 0.96\n",
      "0.08, 0.98\n",
      "0.00, 1.00\n",
      "0.09, 0.97\n",
      "0.02, 0.99\n",
      "0.00, 1.00\n",
      "0.00, 1.00\n",
      "0.00, 1.00\n",
      "0.00, 1.00\n",
      "0.18, 0.98\n"
     ]
    }
   ],
   "source": [
    "# let's train our simple simple model and see if it learns?\n",
    "# maybe it will!\n",
    "lr = 1e-2\n",
    "opt = torch.optim.Adam(model.parameters(), lr=lr)\n",
    "epochs = 100\n",
    "for epoch in range(epochs):\n",
    "    for xb, yb in train_dl:\n",
    "        preds = model(xb)\n",
    "        loss = F.cross_entropy(preds, yb)\n",
    "        loss.backward()\n",
    "        opt.step()\n",
    "        opt.zero_grad()\n",
    "    if epoch % 10 == 0: report(loss, preds, yb)"
   ]
  },
  {
   "cell_type": "code",
   "execution_count": null,
   "metadata": {},
   "outputs": [],
   "source": []
  },
  {
   "cell_type": "code",
   "execution_count": null,
   "metadata": {},
   "outputs": [],
   "source": []
  },
  {
   "cell_type": "code",
   "execution_count": null,
   "metadata": {},
   "outputs": [],
   "source": []
  },
  {
   "cell_type": "code",
   "execution_count": null,
   "metadata": {},
   "outputs": [],
   "source": []
  },
  {
   "cell_type": "code",
   "execution_count": null,
   "metadata": {},
   "outputs": [],
   "source": []
  },
  {
   "cell_type": "code",
   "execution_count": null,
   "metadata": {},
   "outputs": [],
   "source": []
  },
  {
   "cell_type": "code",
   "execution_count": null,
   "metadata": {},
   "outputs": [],
   "source": []
  },
  {
   "cell_type": "code",
   "execution_count": null,
   "metadata": {},
   "outputs": [],
   "source": []
  }
 ],
 "metadata": {
  "kernelspec": {
   "display_name": "tinygrad",
   "language": "python",
   "name": "python3"
  },
  "language_info": {
   "codemirror_mode": {
    "name": "ipython",
    "version": 3
   },
   "file_extension": ".py",
   "mimetype": "text/x-python",
   "name": "python",
   "nbconvert_exporter": "python",
   "pygments_lexer": "ipython3",
   "version": "3.10.9"
  },
  "orig_nbformat": 4
 },
 "nbformat": 4,
 "nbformat_minor": 2
}
